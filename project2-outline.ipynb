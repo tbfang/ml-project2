{
 "cells": [
  {
   "cell_type": "markdown",
   "metadata": {},
   "source": [
    "# Things to do\n",
    "This is a rough outline of the tasks to be completed in this project. We all start with understanding the project, and then we to divide tasks in implementation, specifically, feature extraction and tuning models."
   ]
  },
  {
   "cell_type": "markdown",
   "metadata": {},
   "source": [
    "## Understanding\n",
    "1. Understand Project Completely\n",
    "    * Problem -- Understand what we need to produce (submission), test, train data\n",
    "    * Solving the Problem -- Understand the entire process in the notebook `segment_aerial_images.ipynb`\n",
    "2. Literature Review\n",
    "    * Find state-of-the-art implementations (e.g. CNNs algorithms, processing techniques)\n",
    "    * Review student projects from PCML 2015\n",
    "    \n",
    "## Implementation\n",
    "1. Load and Extract images\n",
    "    * use technique in notebook provided, make some changes in the code\n",
    "2. Process Images / Feature Extraction\n",
    "    * find relevant features in addition to mean and variance\n",
    "    * state-of-the-art techniques (from literature)\n",
    "2. Algorithms\n",
    "    * Linear (e.g. logit) - finetune hyperparameters\n",
    "    * SVN - finetune hyperparameters\n",
    "    * CNN - finetune hyperparameters (difficult), feature extraction automatically done\n",
    "        * https://github.com/mitmul/ssai-cnn\n",
    "        * use Tensorflow or another framework\n",
    "3. Cross-validation + Interpretation (competition evaluated on F1 score)\n",
    "\n",
    "## Report\n",
    "* write report in parallel with implementation"
   ]
  },
  {
   "cell_type": "markdown",
   "metadata": {},
   "source": [
    "## Relevant Sources\n",
    "\n",
    "keyword for search = 'aerial road segmentation'\n",
    "\n",
    "### Papers\n",
    "* Random Forest, complex functions for feature processing\n",
    "https://www.inf.ethz.ch/personal/ladickyl/roads_pia15.pdf\n",
    "* CNN Segmentation 2016 - http://www.ingentaconnect.com/content/ist/jist/2016/00000060/00000001/art00003\n",
    "https://github.com/mitmul/ssai-cnn - CNN code\n",
    "\n",
    "\n",
    "### Tutorials\n",
    "https://www.tensorflow.org/versions/r0.11/tutorials/deep_cnn/index.html"
   ]
  }
 ],
 "metadata": {
  "kernelspec": {
   "display_name": "Python 3",
   "language": "python",
   "name": "python3"
  },
  "language_info": {
   "codemirror_mode": {
    "name": "ipython",
    "version": 3
   },
   "file_extension": ".py",
   "mimetype": "text/x-python",
   "name": "python",
   "nbconvert_exporter": "python",
   "pygments_lexer": "ipython3",
   "version": "3.5.1"
  }
 },
 "nbformat": 4,
 "nbformat_minor": 0
}
