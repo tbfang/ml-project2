{
 "cells": [
  {
   "cell_type": "code",
   "execution_count": 1,
   "metadata": {
    "collapsed": false
   },
   "outputs": [],
   "source": [
    "import os,sys\n",
    "from PIL import Image\n",
    "from PIL import ImageOps\n",
    "import matplotlib.image as mpimg\n",
    "import pandas as pd\n",
    "import numpy as np"
   ]
  },
  {
   "cell_type": "code",
   "execution_count": 5,
   "metadata": {
    "collapsed": false
   },
   "outputs": [
    {
     "data": {
      "text/plain": [
       "800"
      ]
     },
     "execution_count": 5,
     "metadata": {},
     "output_type": "execute_result"
    }
   ],
   "source": [
    "newsize=sizepad(5,400)\n",
    "newsize"
   ]
  },
  {
   "cell_type": "code",
   "execution_count": 3,
   "metadata": {
    "collapsed": false
   },
   "outputs": [],
   "source": [
    "def sizepad(n,t):\n",
    "    if (t==400 and n<=4):\n",
    "        new_size = 400\n",
    "    elif (t ==400 and n>4):\n",
    "        new_size = 400 * (2**(n-4))\n",
    "    elif (t== 608 and n<=5):\n",
    "        new_size = 608\n",
    "    elif(t==608 and n>5):\n",
    "        new_size = 608* (2**(n-5))\n",
    "    \n",
    "    return new_size"
   ]
  },
  {
   "cell_type": "code",
   "execution_count": 50,
   "metadata": {
    "collapsed": false
   },
   "outputs": [],
   "source": [
    "newsize=sizepad(5,400)\n",
    "root_dir = \"training/\"\n",
    "image_dir = root_dir + \"images/\"\n",
    "files = os.listdir(image_dir)\n",
    "n=len(files)\n",
    "gt_dir = root_dir + \"groundtruth/\"\n",
    "files1 = os.listdir(gt_dir)\n",
    "for i in range(100):\n",
    "    old_im_1=Image.open(image_dir + files[i])\n",
    "    old_im_2=Image.open(gt_dir + files1[i])\n",
    "    old_size = old_im_1.size\n",
    "    new_size= int((newsize-old_size[0])/2)\n",
    "    new_im_1=ImageOps.expand(old_im_1,border=new_size,fill='black')\n",
    "    new_im_2=ImageOps.expand(old_im_2,border=new_size,fill='black')\n",
    "    new_im_1.save(\"new_traning/images/\"+\"satImage_\"+'%.3d' % (i+1)+\".png\")\n",
    "    new_im_2.save(\"new_traning/groundtruth/\"+\"satImage_\"+'%.3d' % (i+1)+\".png\")\n"
   ]
  },
  {
   "cell_type": "code",
   "execution_count": 40,
   "metadata": {
    "collapsed": false
   },
   "outputs": [],
   "source": [
    "root_dir = \"test_set_images-2/\"\n",
    "files=os.listdir(root_dir)\n",
    "n_te=len(files)\n",
    "for i in range(1,n_te):\n",
    "    dir_img=root_dir+files[i]+'/'\n",
    "    file=os.listdir(dir_img)\n",
    "    old_im=Image.open(dir_img+file[0])\n",
    "    old_size = old_im.size\n",
    "    new_size= int((newsize-old_size[0])/2)\n",
    "    new_im=ImageOps.expand(old_im,border=new_size,fill='black')\n",
    "    new_im.save(\"testing/\"+\"test_\"+'%.3d' % i+\".png\")"
   ]
  }
 ],
 "metadata": {
  "anaconda-cloud": {},
  "kernelspec": {
   "display_name": "Python [default]",
   "language": "python",
   "name": "python3"
  },
  "language_info": {
   "codemirror_mode": {
    "name": "ipython",
    "version": 3
   },
   "file_extension": ".py",
   "mimetype": "text/x-python",
   "name": "python",
   "nbconvert_exporter": "python",
   "pygments_lexer": "ipython3",
   "version": "3.5.2"
  }
 },
 "nbformat": 4,
 "nbformat_minor": 0
}
